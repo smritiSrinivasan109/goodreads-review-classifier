{
 "cells": [
  {
   "cell_type": "code",
   "execution_count": null,
   "id": "445e6325",
   "metadata": {},
   "outputs": [],
   "source": [
    "# random forest\n",
    "import json\n",
    "import pandas as pd\n",
    "from sklearn.feature_extraction.text import CountVectorizer\n",
    "from sklearn.ensemble import RandomForestClassifier\n",
    "from sklearn.model_selection import train_test_split\n",
    "import datetime"
   ]
  },
  {
   "cell_type": "code",
   "execution_count": null,
   "id": "0ee83217",
   "metadata": {},
   "outputs": [],
   "source": [
    "# start time\n",
    "start_time = datetime.datetime.now()\n",
    "\n",
    "# load the reviews from the JSON file into a Pandas DataFrame\n",
    "reviews = []\n",
    "with open('goodreads_reviews_young_adult.json', 'r') as f:\n",
    "    for line in f:\n",
    "        review = json.loads(line)\n",
    "        reviews.append((review['review_text'], review['rating']))\n",
    "df = pd.DataFrame(reviews, columns=['text', 'rating'])"
   ]
  },
  {
   "cell_type": "code",
   "execution_count": null,
   "id": "2176aa33",
   "metadata": {},
   "outputs": [],
   "source": [
    "# define a function to map ratings to sentiment labels\n",
    "def map_rating_to_sentiment(rating):\n",
    "    if rating >= 3:\n",
    "        return 'positive'\n",
    "    else:\n",
    "        return 'negative'"
   ]
  },
  {
   "cell_type": "code",
   "execution_count": null,
   "id": "82240ae3",
   "metadata": {},
   "outputs": [],
   "source": [
    "# map the ratings to sentiment labels\n",
    "df['sentiment'] = df['rating'].apply(map_rating_to_sentiment)\n",
    "\n",
    "# split the dataset into training and testing sets\n",
    "X_train, X_test, y_train, y_test = train_test_split(df['text'], df['sentiment'], test_size=0.2, random_state=42)\n",
    "\n",
    "# vectorize the text data using a bag-of-words model\n",
    "vectorizer = CountVectorizer(stop_words='english')\n",
    "X_train_vec = vectorizer.fit_transform(X_train)\n",
    "X_test_vec = vectorizer.transform(X_test)"
   ]
  },
  {
   "cell_type": "code",
   "execution_count": null,
   "id": "a3579bef",
   "metadata": {},
   "outputs": [],
   "source": [
    "# train a random forest classifier on the training data\n",
    "clf = RandomForestClassifier(n_estimators=100, random_state=42)\n",
    "clf.fit(X_train_vec, y_train)\n",
    "\n",
    "# evaluate the performance of the classifier on the testing data\n",
    "accuracy = clf.score(X_test_vec, y_test)\n",
    "print(\"Accuracy of the classifier on the testing set: {:.2f}%\".format(accuracy * 100))\n",
    "\n",
    "# end time\n",
    "end_time = datetime.datetime.now()\n",
    "\n",
    "# total time\n",
    "delta_time = end_time - start_time\n",
    "print(f\"Elapsed time: {delta_time.total_seconds()} seconds\")"
   ]
  }
 ],
 "metadata": {
  "kernelspec": {
   "display_name": "Python 3 (ipykernel)",
   "language": "python",
   "name": "python3"
  },
  "language_info": {
   "codemirror_mode": {
    "name": "ipython",
    "version": 3
   },
   "file_extension": ".py",
   "mimetype": "text/x-python",
   "name": "python",
   "nbconvert_exporter": "python",
   "pygments_lexer": "ipython3",
   "version": "3.9.12"
  }
 },
 "nbformat": 4,
 "nbformat_minor": 5
}
