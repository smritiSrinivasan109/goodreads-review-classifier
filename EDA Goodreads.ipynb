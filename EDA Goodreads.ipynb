{
 "cells": [
  {
   "cell_type": "code",
   "execution_count": 2,
   "id": "3afacedb",
   "metadata": {},
   "outputs": [],
   "source": [
    "import json\n",
    "import pandas as pd\n",
    "import matplotlib.pyplot as plt"
   ]
  },
  {
   "cell_type": "code",
   "execution_count": 2,
   "id": "9e61002d",
   "metadata": {},
   "outputs": [
    {
     "name": "stdout",
     "output_type": "stream",
     "text": [
      "                            user_id   book_id  \\\n",
      "0  8842281e1d1347389f2ab93d60773d4d   2767052   \n",
      "1  7504b2aee1ecb5b2872d3da381c6c91e  23302416   \n",
      "2  f8a89075dc6de14857561522e729f82c  18053080   \n",
      "3  f8a89075dc6de14857561522e729f82c  17383543   \n",
      "4  f8a89075dc6de14857561522e729f82c  16651458   \n",
      "\n",
      "                          review_id  rating  \\\n",
      "0  248c011811e945eca861b5c31a549291       5   \n",
      "1  84c0936a0f9868f38e75d2f9a5cb761e       5   \n",
      "2  785c8db878f4009da9741dea51f641da       4   \n",
      "3  34dc3c45d07e82718b05e73167259aef       2   \n",
      "4  d8d6b590780256fef7ae4a9550fe3e0d       5   \n",
      "\n",
      "                                         review_text  \\\n",
      "0  I cracked and finally picked this up. Very enj...   \n",
      "1  I read this book because my fifth grade son wa...   \n",
      "2  Though the book started out slow and only star...   \n",
      "3  *Update - 10/27/13* - After some sleep, I thin...   \n",
      "4  This is a moving, heartbreaking, view into a l...   \n",
      "\n",
      "                       date_added                    date_updated  \\\n",
      "0  Wed Jan 13 13:38:25 -0800 2010  Wed Mar 22 11:46:36 -0700 2017   \n",
      "1  Wed Jan 21 18:40:59 -0800 2015  Wed Oct 26 03:44:13 -0700 2016   \n",
      "2  Sat Jan 11 17:58:41 -0800 2014  Tue Dec 02 11:43:07 -0800 2014   \n",
      "3  Sun Apr 21 19:42:28 -0700 2013  Fri Aug 15 07:55:01 -0700 2014   \n",
      "4  Fri Jan 11 11:42:42 -0800 2013  Fri Mar 01 09:31:01 -0800 2013   \n",
      "\n",
      "                          read_at                      started_at  n_votes  \\\n",
      "0  Sun Mar 25 00:00:00 -0700 2012  Fri Mar 23 00:00:00 -0700 2012       24   \n",
      "1                                                                        0   \n",
      "2  Sat Apr 12 00:00:00 -0700 2014  Fri Apr 11 00:00:00 -0700 2014        0   \n",
      "3  Sat Oct 26 00:00:00 -0700 2013  Fri Oct 25 00:00:00 -0700 2013        0   \n",
      "4  Mon Jan 14 00:00:00 -0800 2013  Sat Jan 12 00:00:00 -0800 2013        0   \n",
      "\n",
      "   n_comments  \n",
      "0          25  \n",
      "1           0  \n",
      "2           0  \n",
      "3           0  \n",
      "4           0  \n",
      "count    100.000000\n",
      "mean       4.120000\n",
      "std        0.956424\n",
      "min        1.000000\n",
      "25%        4.000000\n",
      "50%        4.000000\n",
      "75%        5.000000\n",
      "max        5.000000\n",
      "Name: rating, dtype: float64\n"
     ]
    }
   ],
   "source": [
    "# Create an empty list to store the data\n",
    "data = []\n",
    "\n",
    "# Open the file and read it line by line\n",
    "with open('goodreads_reviews_young_adult.json', 'r') as f:\n",
    "    for i, line in enumerate(f):\n",
    "        # Load the JSON object from the line\n",
    "        review = json.loads(line)\n",
    "        # Append the review to the data list\n",
    "        data.append(review)\n",
    "        # Break out of the loop after reading 10 lines\n",
    "        if i >= 99:\n",
    "            break\n",
    "\n",
    "# Convert the data to a pandas dataframe\n",
    "df = pd.json_normalize(data)\n",
    "\n",
    "# Print the first 5 rows of the dataframe\n",
    "print(df.head())\n",
    "\n",
    "# Get basic statistics about the ratings\n",
    "print(df['rating'].describe())\n"
   ]
  },
  {
   "cell_type": "code",
   "execution_count": 3,
   "id": "3cef319c",
   "metadata": {},
   "outputs": [
    {
     "name": "stdout",
     "output_type": "stream",
     "text": [
      "count    100.000000\n",
      "mean       3.730000\n",
      "std        1.362225\n",
      "min        0.000000\n",
      "25%        3.000000\n",
      "50%        4.000000\n",
      "75%        5.000000\n",
      "max        5.000000\n",
      "Name: rating, dtype: float64\n"
     ]
    }
   ],
   "source": [
    "# Create an empty list to store the data\n",
    "data = []\n",
    "\n",
    "# Open the file and read it line by line\n",
    "with open('goodreads_reviews_young_adult.json', 'r') as f:\n",
    "    for line in f:\n",
    "        # Load the JSON object from the line\n",
    "        review = json.loads(line)\n",
    "        # Append the review to the data list\n",
    "        data.append(review)\n",
    "\n",
    "# Convert the data to a pandas dataframe\n",
    "df = pd.json_normalize(data)\n",
    "\n",
    "# Select 10 random ratings\n",
    "random_ratings = df.sample(n=100)['rating']\n",
    "\n",
    "# Print the random ratings\n",
    "print(random_ratings.describe())"
   ]
  },
  {
   "cell_type": "code",
   "execution_count": 4,
   "id": "a294329b",
   "metadata": {
    "scrolled": true
   },
   "outputs": [
    {
     "data": {
      "image/png": "[encoded data removed]",
      "text/plain": [
       "<Figure size 432x288 with 1 Axes>"
      ]
     },
     "metadata": {
      "needs_background": "light"
     },
     "output_type": "display_data"
    }
   ],
   "source": [
    "plt.hist(df['rating'], bins=5)\n",
    "plt.title('Distribution of Ratings')\n",
    "plt.xlabel('Rating')\n",
    "plt.ylabel('Count')\n",
    "plt.show()"
   ]
  },
  {
   "cell_type": "code",
   "execution_count": 6,
   "id": "668e76dd",
   "metadata": {},
   "outputs": [
    {
     "data": {
      "image/png": "[encoded data removed]",
      "text/plain": [
       "<Figure size 432x288 with 1 Axes>"
      ]
     },
     "metadata": {
      "needs_background": "light"
     },
     "output_type": "display_data"
    }
   ],
   "source": [
    "book_counts = df['book_id'].value_counts()\n",
    "book_counts.plot(kind='bar', )\n",
    "plt.title('Number of Reviews per Book')\n",
    "plt.xlabel('Book Title')\n",
    "plt.ylabel('Count')\n",
    "plt.show()"
   ]
  },
  {
   "cell_type": "code",
   "execution_count": 7,
   "id": "00f88459",
   "metadata": {},
   "outputs": [
    {
     "name": "stdout",
     "output_type": "stream",
     "text": [
      "Average rating of the first 50 reviews:  4.26\n"
     ]
    }
   ],
   "source": [
    "with open('goodreads_reviews_young_adult.json', 'r') as f:\n",
    "    rating_sum = 0\n",
    "    rating_count = 0\n",
    "    for i, line in enumerate(f):\n",
    "        # Load the JSON object from the line\n",
    "        review = json.loads(line)\n",
    "        # Extract the rating from the review\n",
    "        rating = review['rating']\n",
    "        # Add the rating to the sum and increment the count\n",
    "        rating_sum += rating\n",
    "        rating_count += 1\n",
    "        # Break out of the loop after computing the average of 50 ratings\n",
    "        if rating_count >= 50:\n",
    "            break\n",
    "\n",
    "# Compute the average rating\n",
    "average_rating = rating_sum / rating_count\n",
    "\n",
    "# Print the average rating\n",
    "print(\"Average rating of the first 50 reviews: \", average_rating)"
   ]
  },
  {
   "cell_type": "code",
   "execution_count": 8,
   "id": "9c194509",
   "metadata": {},
   "outputs": [
    {
     "name": "stdout",
     "output_type": "stream",
     "text": [
      "Accuracy of the classifier on the testing set: 86.83%\n"
     ]
    }
   ],
   "source": [
    "import json\n",
    "import pandas as pd\n",
    "from sklearn.feature_extraction.text import CountVectorizer\n",
    "from sklearn.naive_bayes import MultinomialNB\n",
    "from sklearn.model_selection import train_test_split\n",
    "\n",
    "# load the reviews from the JSON file into a Pandas DataFrame\n",
    "reviews = []\n",
    "with open('goodreads_reviews_young_adult.json', 'r') as f:\n",
    "    for line in f:\n",
    "        review = json.loads(line)\n",
    "        reviews.append((review['review_text'], review['rating']))\n",
    "df = pd.DataFrame(reviews, columns=['text', 'rating'])\n",
    "\n",
    "# define a function to map ratings to sentiment labels\n",
    "def map_rating_to_sentiment(rating):\n",
    "    if rating >= 3:\n",
    "        return 'positive'\n",
    "    else:\n",
    "        return 'negative'\n",
    "\n",
    "# map the ratings to sentiment labels\n",
    "df['sentiment'] = df['rating'].apply(map_rating_to_sentiment)\n",
    "\n",
    "# split the dataset into training and testing sets\n",
    "X_train, X_test, y_train, y_test = train_test_split(df['text'], df['sentiment'], test_size=0.2, random_state=42)\n",
    "\n",
    "# vectorize the text data using a bag-of-words model\n",
    "vectorizer = CountVectorizer(stop_words='english')\n",
    "X_train_vec = vectorizer.fit_transform(X_train)\n",
    "X_test_vec = vectorizer.transform(X_test)\n",
    "\n",
    "# train a naive bayes classifier on the training data\n",
    "clf = MultinomialNB()\n",
    "clf.fit(X_train_vec, y_train)\n",
    "\n",
    "# evaluate the performance of the classifier on the testing data\n",
    "accuracy = clf.score(X_test_vec, y_test)\n",
    "print(\"Accuracy of the classifier on the testing set: {:.2f}%\".format(accuracy * 100))"
   ]
  },
  {
   "cell_type": "code",
   "execution_count": 10,
   "id": "139b321a",
   "metadata": {},
   "outputs": [
    {
     "name": "stdout",
     "output_type": "stream",
     "text": [
      "Accuracy of the classifier on the testing set: 86.83%\n",
      "Elapsed time: 385.875036 seconds\n"
     ]
    }
   ],
   "source": [
    "import json\n",
    "import pandas as pd\n",
    "from sklearn.feature_extraction.text import CountVectorizer\n",
    "from sklearn.naive_bayes import MultinomialNB\n",
    "from sklearn.model_selection import train_test_split\n",
    "import datetime\n",
    "\n",
    "# start time\n",
    "start_time = datetime.datetime.now()\n",
    "\n",
    "# load the reviews from the JSON file into a Pandas DataFrame\n",
    "reviews = []\n",
    "with open('goodreads_reviews_young_adult.json', 'r') as f:\n",
    "    for line in f:\n",
    "        review = json.loads(line)\n",
    "        reviews.append((review['review_text'], review['rating']))\n",
    "df = pd.DataFrame(reviews, columns=['text', 'rating'])\n",
    "\n",
    "# define a function to map ratings to sentiment labels\n",
    "def map_rating_to_sentiment(rating):\n",
    "    if rating >= 3:\n",
    "        return 'positive'\n",
    "    else:\n",
    "        return 'negative'\n",
    "\n",
    "# map the ratings to sentiment labels\n",
    "df['sentiment'] = df['rating'].apply(map_rating_to_sentiment)\n",
    "\n",
    "# split the dataset into training and testing sets\n",
    "X_train, X_test, y_train, y_test = train_test_split(df['text'], df['sentiment'], test_size=0.2, random_state=42)\n",
    "\n",
    "# vectorize the text data using a bag-of-words model\n",
    "vectorizer = CountVectorizer(stop_words='english')\n",
    "X_train_vec = vectorizer.fit_transform(X_train)\n",
    "X_test_vec = vectorizer.transform(X_test)\n",
    "\n",
    "# train a naive bayes classifier on the training data\n",
    "clf = MultinomialNB()\n",
    "clf.fit(X_train_vec, y_train)\n",
    "\n",
    "# evaluate the performance of the classifier on the testing data\n",
    "accuracy = clf.score(X_test_vec, y_test)\n",
    "print(\"Accuracy of the classifier on the testing set: {:.2f}%\".format(accuracy * 100))\n",
    "\n",
    "# end time\n",
    "end_time = datetime.datetime.now()\n",
    "\n",
    "# total time\n",
    "delta_time = end_time - start_time\n",
    "print(f\"Elapsed time: {delta_time.total_seconds()} seconds\")"
   ]
  },
  {
   "cell_type": "code",
   "execution_count": null,
   "id": "f225ceb6",
   "metadata": {},
   "outputs": [],
   "source": []
  }
 ],
 "metadata": {
  "kernelspec": {
   "display_name": "Python 3 (ipykernel)",
   "language": "python",
   "name": "python3"
  },
  "language_info": {
   "codemirror_mode": {
    "name": "ipython",
    "version": 3
   },
   "file_extension": ".py",
   "mimetype": "text/x-python",
   "name": "python",
   "nbconvert_exporter": "python",
   "pygments_lexer": "ipython3",
   "version": "3.9.12"
  }
 },
 "nbformat": 4,
 "nbformat_minor": 5
}
