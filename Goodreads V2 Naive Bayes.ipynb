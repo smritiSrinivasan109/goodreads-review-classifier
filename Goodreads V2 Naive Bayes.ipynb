{
 "cells": [
  {
   "cell_type": "code",
   "execution_count": 142,
   "id": "7c074a3a",
   "metadata": {},
   "outputs": [
    {
     "name": "stdout",
     "output_type": "stream",
     "text": [
      "Accuracy of the classifier on the testing set: 77.05%\n",
      "Elapsed time: 354.564974 seconds\n"
     ]
    }
   ],
   "source": [
    "import json\n",
    "import pandas as pd\n",
    "from sklearn.feature_extraction.text import CountVectorizer\n",
    "from sklearn.naive_bayes import MultinomialNB\n",
    "from sklearn.model_selection import train_test_split\n",
    "import datetime\n",
    "\n",
    "# start time\n",
    "start_time = datetime.datetime.now()\n",
    "\n",
    "# load the reviews from the JSON file into a Pandas DataFrame\n",
    "reviews = []\n",
    "with open('goodreads_reviews_young_adult.json', 'r') as f:\n",
    "    for line in f:\n",
    "        review = json.loads(line)\n",
    "        reviews.append((review['review_text'], review['rating']))\n",
    "df = pd.DataFrame(reviews, columns=['text', 'rating'])\n",
    "\n",
    "# define a function to map ratings to sentiment labels\n",
    "def map_rating_to_sentiment(rating):\n",
    "    if rating >= 4:\n",
    "        return 'positive'\n",
    "    else:\n",
    "        return 'negative'\n",
    "\n",
    "# map the ratings to sentiment labels\n",
    "df['sentiment'] = df['rating'].apply(map_rating_to_sentiment)\n",
    "\n",
    "# split the dataset into training and testing sets\n",
    "X_train, X_test, y_train, y_test = train_test_split(df['text'], df['sentiment'], test_size=0.2, random_state=42)\n",
    "\n",
    "# vectorize the text data using a bag-of-words model\n",
    "vectorizer = CountVectorizer(stop_words='english')\n",
    "X_train_vec = vectorizer.fit_transform(X_train)\n",
    "X_test_vec = vectorizer.transform(X_test)\n",
    "\n",
    "# train a naive bayes classifier on the training data\n",
    "clf = MultinomialNB()\n",
    "clf.fit(X_train_vec, y_train)\n",
    "\n",
    "# evaluate the performance of the classifier on the testing data\n",
    "accuracy = clf.score(X_test_vec, y_test)\n",
    "print(\"Accuracy of the classifier on the testing set: {:.2f}%\".format(accuracy * 100))\n",
    "\n",
    "# end time\n",
    "end_time = datetime.datetime.now()\n",
    "\n",
    "# total time\n",
    "delta_time = end_time - start_time\n",
    "print(f\"Elapsed time: {delta_time.total_seconds()} seconds\")"
   ]
  },
  {
   "cell_type": "code",
   "execution_count": 155,
   "id": "ea8b7054",
   "metadata": {},
   "outputs": [
    {
     "name": "stdout",
     "output_type": "stream",
     "text": [
      "Confusion Matrix:\n",
      " [[270966  46195]\n",
      " [ 63480  97339]]\n"
     ]
    }
   ],
   "source": [
    "from sklearn.metrics import confusion_matrix\n",
    "\n",
    "# predict the labels for the test set\n",
    "y_pred = clf.predict(X_test_vec)\n",
    "\n",
    "# create the confusion matrix\n",
    "conf_matrix = confusion_matrix(y_test, y_pred, labels=['positive', 'negative'])\n",
    "\n",
    "print(\"Confusion Matrix:\\n\", conf_matrix)\n"
   ]
  },
  {
   "cell_type": "code",
   "execution_count": 143,
   "id": "eb86716c",
   "metadata": {},
   "outputs": [
    {
     "data": {
      "text/plain": [
       "CountVectorizer(stop_words='english')"
      ]
     },
     "execution_count": 143,
     "metadata": {},
     "output_type": "execute_result"
    }
   ],
   "source": [
    "vectorizer"
   ]
  },
  {
   "cell_type": "code",
   "execution_count": 144,
   "id": "612409b0",
   "metadata": {},
   "outputs": [],
   "source": [
    "import pickle\n",
    "\n",
    "with open(\"vectorizer.pkl\", 'wb') as fout:\n",
    "    pickle.dump(vectorizer,fout)"
   ]
  },
  {
   "cell_type": "code",
   "execution_count": 145,
   "id": "9025ef4c",
   "metadata": {},
   "outputs": [],
   "source": [
    "with open('vectorizer.pkl', 'rb') as f:\n",
    "    vectorizer2 = pickle.load(f)"
   ]
  },
  {
   "cell_type": "code",
   "execution_count": 146,
   "id": "6310cb95",
   "metadata": {},
   "outputs": [
    {
     "data": {
      "text/plain": [
       "CountVectorizer(stop_words='english')"
      ]
     },
     "execution_count": 146,
     "metadata": {},
     "output_type": "execute_result"
    }
   ],
   "source": [
    "vectorizer2"
   ]
  },
  {
   "cell_type": "code",
   "execution_count": 147,
   "id": "00b910f5",
   "metadata": {},
   "outputs": [],
   "source": [
    "review = [\"This is a boring book!\"]"
   ]
  },
  {
   "cell_type": "code",
   "execution_count": 148,
   "id": "ff633a7f",
   "metadata": {},
   "outputs": [],
   "source": [
    "revVec = vectorizer2.transform(review)"
   ]
  },
  {
   "cell_type": "code",
   "execution_count": 149,
   "id": "460e1692",
   "metadata": {},
   "outputs": [],
   "source": [
    "revVec2 = vectorizer.transform(review)"
   ]
  },
  {
   "cell_type": "code",
   "execution_count": 150,
   "id": "4d0d7956",
   "metadata": {},
   "outputs": [
    {
     "data": {
      "text/plain": [
       "array(['negative'], dtype='<U8')"
      ]
     },
     "execution_count": 150,
     "metadata": {},
     "output_type": "execute_result"
    }
   ],
   "source": [
    "clf.predict(revVec2)"
   ]
  },
  {
   "cell_type": "code",
   "execution_count": 151,
   "id": "74d2da0f",
   "metadata": {},
   "outputs": [],
   "source": [
    "with open(\"model.pkl\", 'wb') as fout:\n",
    "    pickle.dump(clf,fout)"
   ]
  },
  {
   "cell_type": "code",
   "execution_count": 152,
   "id": "85f6759a",
   "metadata": {},
   "outputs": [],
   "source": [
    "with open('model.pkl', 'rb') as f:\n",
    "    clf2 = pickle.load(f)"
   ]
  },
  {
   "cell_type": "code",
   "execution_count": 153,
   "id": "645d5448",
   "metadata": {},
   "outputs": [
    {
     "data": {
      "text/plain": [
       "MultinomialNB()"
      ]
     },
     "execution_count": 153,
     "metadata": {},
     "output_type": "execute_result"
    }
   ],
   "source": [
    "clf2"
   ]
  },
  {
   "cell_type": "code",
   "execution_count": 154,
   "id": "39ae55a4",
   "metadata": {},
   "outputs": [
    {
     "data": {
      "text/plain": [
       "array(['negative'], dtype='<U8')"
      ]
     },
     "execution_count": 154,
     "metadata": {},
     "output_type": "execute_result"
    }
   ],
   "source": [
    "clf2.predict(revVec)"
   ]
  }
 ],
 "metadata": {
  "kernelspec": {
   "display_name": "Python 3 (ipykernel)",
   "language": "python",
   "name": "python3"
  },
  "language_info": {
   "codemirror_mode": {
    "name": "ipython",
    "version": 3
   },
   "file_extension": ".py",
   "mimetype": "text/x-python",
   "name": "python",
   "nbconvert_exporter": "python",
   "pygments_lexer": "ipython3",
   "version": "3.9.12"
  }
 },
 "nbformat": 4,
 "nbformat_minor": 5
}
